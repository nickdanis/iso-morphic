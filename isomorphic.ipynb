{
 "cells": [
  {
   "cell_type": "markdown",
   "metadata": {},
   "source": [
    "# ISO-morphic languages\n",
    "\n",
    "Nick Danis (nsdanis@wustl.edu)\n",
    "\n",
    "Code for [this post](https://www.nickdanis.com/posts/2021/5/3/exhaustive-list-of-all-iso-morphic-languages-languages-whose-name-equals-its-iso-639-3-code). Data files are from [Ethnologue](https://www.ethnologue.com/codes) and comply with the terms of use. "
   ]
  },
  {
   "cell_type": "code",
   "execution_count": null,
   "metadata": {},
   "outputs": [],
   "source": [
    "import pandas as pd\n",
    "\n",
    "df = pd.read_csv('LanguageCodes.tab', sep='\\t', header=0)\n",
    "\n",
    "# find the 3-letter-long language names\n",
    "df['name_three'] = (df['Name'].str.len() == 3)\n",
    "\n",
    "# find the ISO-morphic language names\n",
    "df['iso_morphic'] = (df['LangID'] == df['Name'].str.lower())"
   ]
  },
  {
   "cell_type": "code",
   "execution_count": null,
   "metadata": {},
   "outputs": [],
   "source": [
    "# Show the ISO-morphic languages among the 3-letter languages\n",
    "df.groupby(['name_three','iso_morphic'])['name_three'].count().reset_index(name=\"count\")"
   ]
  },
  {
   "cell_type": "code",
   "execution_count": null,
   "metadata": {},
   "outputs": [],
   "source": [
    "# New dataframe with the ISO-morphic languages\n",
    "iso1 = df.loc[df['iso_morphic'] == True]\n",
    "iso1.head()"
   ]
  },
  {
   "cell_type": "code",
   "execution_count": null,
   "metadata": {},
   "outputs": [],
   "source": [
    "# for printing the markdown list of languages\n",
    "url_prefix = \"https://www.ethnologue.com/language/\"\n",
    "\n",
    "def md_list(names):\n",
    "    for i, l in enumerate(names):\n",
    "        print(str(i+1)+\".\", l)"
   ]
  },
  {
   "cell_type": "code",
   "execution_count": null,
   "metadata": {},
   "outputs": [],
   "source": [
    "# Add URL column to iso1\n",
    "iso1['URL'] = \"[\" + iso1['Name'] + \"](\" + url_prefix + iso1['LangID'] + \")\"\n",
    "iso1.head()"
   ]
  },
  {
   "cell_type": "code",
   "execution_count": null,
   "metadata": {},
   "outputs": [],
   "source": [
    "# print the markdown list of URLs for the ISO-morphic languages\n",
    "md_list(iso1.URL.values.tolist())"
   ]
  },
  {
   "cell_type": "code",
   "execution_count": null,
   "metadata": {},
   "outputs": [],
   "source": [
    "df['only_weak'] = df['LangID'].isin(weak_list)\n",
    "w_iso = df.loc[df.only_weak == True]"
   ]
  },
  {
   "cell_type": "code",
   "execution_count": null,
   "metadata": {},
   "outputs": [],
   "source": [
    "md_list(iso_morphic.Language.values.tolist())"
   ]
  },
  {
   "cell_type": "code",
   "execution_count": null,
   "metadata": {},
   "outputs": [],
   "source": [
    "for i, l in zip(range(1,len(iso_morphic.Language.values.tolist())+1),iso_morphic.Language.values.tolist()):\n",
    "    print(str(i)+\".\", l)"
   ]
  },
  {
   "cell_type": "markdown",
   "metadata": {},
   "source": [
    "## Weakly ISO-morphic languages\n",
    "\n",
    "Uses LanguageIndex.tab. This file contains all LangID - Name pairs for each alternate name of the language."
   ]
  },
  {
   "cell_type": "code",
   "execution_count": null,
   "metadata": {},
   "outputs": [],
   "source": [
    "df2 = pd.read_csv('LanguageIndex.tab', sep='\\t', header=0)\n",
    "\n",
    "# find the 3-letter-long language names\n",
    "df2['name_three'] = (df2['Name'].str.len() == 3)\n",
    "\n",
    "# find the ISO-morphic language names\n",
    "df2['iso_morphic'] = (df2['LangID'] == df2['Name'].str.lower())"
   ]
  },
  {
   "cell_type": "code",
   "execution_count": null,
   "metadata": {},
   "outputs": [],
   "source": [
    "# Saves all ISO-morphic name-code pairs to new DF\n",
    "iso2 = df2.loc[df2['iso_morphic'] == True]"
   ]
  },
  {
   "cell_type": "code",
   "execution_count": null,
   "metadata": {},
   "outputs": [],
   "source": [
    "df2.groupby(['name_three','iso_morphic'])['iso_morphic'].count()"
   ]
  },
  {
   "cell_type": "markdown",
   "metadata": {},
   "source": [
    "Since we don't care how many alternate names are ISO-morphic, group by the codes themselves to find codes associated to a language with at least one ISO-morphic name."
   ]
  },
  {
   "cell_type": "code",
   "execution_count": null,
   "metadata": {},
   "outputs": [],
   "source": [
    "# weakly ISO-morphic languages\n",
    "weakly = iso2.groupby(['LangID'])['Name'].count().reset_index()\n",
    "weakly"
   ]
  },
  {
   "cell_type": "markdown",
   "metadata": {},
   "source": [
    "By doing an outer join on the `weakly` df above with the original `iso1` df, on `LangID`, we can compare the data. We only want the ones in `weakly`, so we filter to `right_only` (filtering to `both` would get us the original list of ISO-morphic languages)."
   ]
  },
  {
   "cell_type": "code",
   "execution_count": null,
   "metadata": {},
   "outputs": [],
   "source": [
    "merge = iso1.merge(weakly, on=\"LangID\", how=\"outer\", indicator=True)\n",
    "weakly_iso = merge.loc[merge._merge == \"right_only\"]\n",
    "weakly_iso.head()"
   ]
  },
  {
   "cell_type": "markdown",
   "metadata": {},
   "source": [
    "Save these values to a list:"
   ]
  },
  {
   "cell_type": "code",
   "execution_count": null,
   "metadata": {},
   "outputs": [],
   "source": [
    "weak_list = weakly_iso.LangID.values.tolist()"
   ]
  },
  {
   "cell_type": "markdown",
   "metadata": {},
   "source": [
    "Use these values to make a new column in the original `df` to retrieve language information, and save this to a new df `w_iso` which is only those languages that are weakly ISO-morphic. "
   ]
  },
  {
   "cell_type": "code",
   "execution_count": null,
   "metadata": {},
   "outputs": [],
   "source": [
    "df['only_weak'] = df['LangID'].isin(weak_list)\n",
    "w_iso = df.loc[df.only_weak == True]"
   ]
  },
  {
   "cell_type": "code",
   "execution_count": null,
   "metadata": {},
   "outputs": [],
   "source": [
    "# make URL column for the weakly languages\n",
    "w_iso['URL'] = \"[\"+w_iso['Name']+\"](\"+url_prefix+w_iso['LangID']+\")\""
   ]
  },
  {
   "cell_type": "code",
   "execution_count": null,
   "metadata": {},
   "outputs": [],
   "source": [
    "md_list(w_iso.URL.values.tolist())"
   ]
  }
 ],
 "metadata": {
  "kernelspec": {
   "display_name": "Python 3",
   "language": "python",
   "name": "python3"
  },
  "language_info": {
   "codemirror_mode": {
    "name": "ipython",
    "version": 3
   },
   "file_extension": ".py",
   "mimetype": "text/x-python",
   "name": "python",
   "nbconvert_exporter": "python",
   "pygments_lexer": "ipython3",
   "version": "3.7.6"
  }
 },
 "nbformat": 4,
 "nbformat_minor": 4
}
